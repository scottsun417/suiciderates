{
 "cells": [
  {
   "cell_type": "code",
   "execution_count": 7,
   "metadata": {},
   "outputs": [],
   "source": [
    "#import the proper libraries\n",
    "%matplotlib inline\n",
    "import pandas as pd\n",
    "import numpy as np\n",
    "import matplotlib.pyplot as plt\n",
    "from scipy import stats\n",
    "import seaborn as sns"
   ]
  },
  {
   "cell_type": "code",
   "execution_count": 8,
   "metadata": {},
   "outputs": [
    {
     "name": "stdout",
     "output_type": "stream",
     "text": [
      "<class 'pandas.core.frame.DataFrame'>\n",
      "RangeIndex: 27820 entries, 0 to 27819\n",
      "Data columns (total 12 columns):\n",
      " #   Column              Non-Null Count  Dtype  \n",
      "---  ------              --------------  -----  \n",
      " 0   country             27820 non-null  object \n",
      " 1   year                27820 non-null  int64  \n",
      " 2   sex                 27820 non-null  object \n",
      " 3   age                 27820 non-null  object \n",
      " 4   suicides_no         27820 non-null  int64  \n",
      " 5   population          27820 non-null  int64  \n",
      " 6   suicides/100k pop   27820 non-null  float64\n",
      " 7   country-year        27820 non-null  object \n",
      " 8   HDI for year        8364 non-null   float64\n",
      " 9    gdp_for_year ($)   27820 non-null  object \n",
      " 10  gdp_per_capita ($)  27820 non-null  int64  \n",
      " 11  generation          27820 non-null  object \n",
      "dtypes: float64(2), int64(4), object(6)\n",
      "memory usage: 2.5+ MB\n"
     ]
    }
   ],
   "source": [
    "#build the data frame\n",
    "suicide_frame = pd.read_csv('master.csv')\n",
    "suicide_frame.info()"
   ]
  },
  {
   "cell_type": "code",
   "execution_count": 9,
   "metadata": {},
   "outputs": [
    {
     "name": "stdout",
     "output_type": "stream",
     "text": [
      "<class 'pandas.core.frame.DataFrame'>\n",
      "Int64Index: 27660 entries, 0 to 27819\n",
      "Data columns (total 10 columns):\n",
      " #   Column              Non-Null Count  Dtype  \n",
      "---  ------              --------------  -----  \n",
      " 0   country             27660 non-null  object \n",
      " 1   year                27660 non-null  int64  \n",
      " 2   sex                 27660 non-null  object \n",
      " 3   age                 27660 non-null  object \n",
      " 4   suicides_no         27660 non-null  int64  \n",
      " 5   population          27660 non-null  int64  \n",
      " 6   suicides/100k pop   27660 non-null  float64\n",
      " 7   country-year        27660 non-null  object \n",
      " 8    gdp_for_year ($)   27660 non-null  object \n",
      " 9   gdp_per_capita ($)  27660 non-null  int64  \n",
      "dtypes: float64(1), int64(4), object(5)\n",
      "memory usage: 2.3+ MB\n"
     ]
    },
    {
     "data": {
      "text/html": [
       "<div>\n",
       "<style scoped>\n",
       "    .dataframe tbody tr th:only-of-type {\n",
       "        vertical-align: middle;\n",
       "    }\n",
       "\n",
       "    .dataframe tbody tr th {\n",
       "        vertical-align: top;\n",
       "    }\n",
       "\n",
       "    .dataframe thead th {\n",
       "        text-align: right;\n",
       "    }\n",
       "</style>\n",
       "<table border=\"1\" class=\"dataframe\">\n",
       "  <thead>\n",
       "    <tr style=\"text-align: right;\">\n",
       "      <th></th>\n",
       "      <th>country</th>\n",
       "      <th>year</th>\n",
       "      <th>sex</th>\n",
       "      <th>age</th>\n",
       "      <th>suicides_no</th>\n",
       "      <th>population</th>\n",
       "      <th>suicides/100k pop</th>\n",
       "      <th>country-year</th>\n",
       "      <th>gdp_for_year ($)</th>\n",
       "      <th>gdp_per_capita ($)</th>\n",
       "    </tr>\n",
       "  </thead>\n",
       "  <tbody>\n",
       "    <tr>\n",
       "      <th>0</th>\n",
       "      <td>Albania</td>\n",
       "      <td>1987</td>\n",
       "      <td>male</td>\n",
       "      <td>15-24 years</td>\n",
       "      <td>21</td>\n",
       "      <td>312900</td>\n",
       "      <td>6.71</td>\n",
       "      <td>Albania1987</td>\n",
       "      <td>2,156,624,900</td>\n",
       "      <td>796</td>\n",
       "    </tr>\n",
       "    <tr>\n",
       "      <th>1</th>\n",
       "      <td>Albania</td>\n",
       "      <td>1987</td>\n",
       "      <td>male</td>\n",
       "      <td>35-54 years</td>\n",
       "      <td>16</td>\n",
       "      <td>308000</td>\n",
       "      <td>5.19</td>\n",
       "      <td>Albania1987</td>\n",
       "      <td>2,156,624,900</td>\n",
       "      <td>796</td>\n",
       "    </tr>\n",
       "    <tr>\n",
       "      <th>2</th>\n",
       "      <td>Albania</td>\n",
       "      <td>1987</td>\n",
       "      <td>female</td>\n",
       "      <td>15-24 years</td>\n",
       "      <td>14</td>\n",
       "      <td>289700</td>\n",
       "      <td>4.83</td>\n",
       "      <td>Albania1987</td>\n",
       "      <td>2,156,624,900</td>\n",
       "      <td>796</td>\n",
       "    </tr>\n",
       "    <tr>\n",
       "      <th>3</th>\n",
       "      <td>Albania</td>\n",
       "      <td>1987</td>\n",
       "      <td>male</td>\n",
       "      <td>75+ years</td>\n",
       "      <td>1</td>\n",
       "      <td>21800</td>\n",
       "      <td>4.59</td>\n",
       "      <td>Albania1987</td>\n",
       "      <td>2,156,624,900</td>\n",
       "      <td>796</td>\n",
       "    </tr>\n",
       "    <tr>\n",
       "      <th>4</th>\n",
       "      <td>Albania</td>\n",
       "      <td>1987</td>\n",
       "      <td>male</td>\n",
       "      <td>25-34 years</td>\n",
       "      <td>9</td>\n",
       "      <td>274300</td>\n",
       "      <td>3.28</td>\n",
       "      <td>Albania1987</td>\n",
       "      <td>2,156,624,900</td>\n",
       "      <td>796</td>\n",
       "    </tr>\n",
       "  </tbody>\n",
       "</table>\n",
       "</div>"
      ],
      "text/plain": [
       "   country  year     sex          age  suicides_no  population  \\\n",
       "0  Albania  1987    male  15-24 years           21      312900   \n",
       "1  Albania  1987    male  35-54 years           16      308000   \n",
       "2  Albania  1987  female  15-24 years           14      289700   \n",
       "3  Albania  1987    male    75+ years            1       21800   \n",
       "4  Albania  1987    male  25-34 years            9      274300   \n",
       "\n",
       "   suicides/100k pop country-year  gdp_for_year ($)   gdp_per_capita ($)  \n",
       "0               6.71  Albania1987      2,156,624,900                 796  \n",
       "1               5.19  Albania1987      2,156,624,900                 796  \n",
       "2               4.83  Albania1987      2,156,624,900                 796  \n",
       "3               4.59  Albania1987      2,156,624,900                 796  \n",
       "4               3.28  Albania1987      2,156,624,900                 796  "
      ]
     },
     "execution_count": 9,
     "metadata": {},
     "output_type": "execute_result"
    }
   ],
   "source": [
    "#lets drop 2016 because most countries do not have this year recorded\n",
    "suicide_frame_clean=suicide_frame[suicide_frame['year'] != 2016]\n",
    "#lets also drop some columns we won't be using\n",
    "suicide_frame_clean = suicide_frame_clean.drop(['HDI for year', 'generation'], axis = 1)\n",
    "suicide_frame_clean.info()\n",
    "suicide_frame_clean.head()"
   ]
  },
  {
   "cell_type": "code",
   "execution_count": 10,
   "metadata": {},
   "outputs": [
    {
     "name": "stdout",
     "output_type": "stream",
     "text": [
      "<class 'pandas.core.frame.DataFrame'>\n",
      "Int64Index: 96 entries, 264 to 27228\n",
      "Data columns (total 10 columns):\n",
      " #   Column              Non-Null Count  Dtype  \n",
      "---  ------              --------------  -----  \n",
      " 0   country             96 non-null     object \n",
      " 1   year                96 non-null     int64  \n",
      " 2   sex                 96 non-null     object \n",
      " 3   age                 96 non-null     object \n",
      " 4   suicides_no         96 non-null     int64  \n",
      " 5   population          96 non-null     int64  \n",
      " 6   suicides/100k pop   96 non-null     float64\n",
      " 7   country-year        96 non-null     object \n",
      " 8    gdp_for_year ($)   96 non-null     object \n",
      " 9   gdp_per_capita ($)  96 non-null     int64  \n",
      "dtypes: float64(1), int64(4), object(5)\n",
      "memory usage: 8.2+ KB\n",
      "<class 'pandas.core.frame.DataFrame'>\n",
      "Int64Index: 124 entries, 577 to 27553\n",
      "Data columns (total 10 columns):\n",
      " #   Column              Non-Null Count  Dtype  \n",
      "---  ------              --------------  -----  \n",
      " 0   country             124 non-null    object \n",
      " 1   year                124 non-null    int64  \n",
      " 2   sex                 124 non-null    object \n",
      " 3   age                 124 non-null    object \n",
      " 4   suicides_no         124 non-null    int64  \n",
      " 5   population          124 non-null    int64  \n",
      " 6   suicides/100k pop   124 non-null    float64\n",
      " 7   country-year        124 non-null    object \n",
      " 8    gdp_for_year ($)   124 non-null    object \n",
      " 9   gdp_per_capita ($)  124 non-null    int64  \n",
      "dtypes: float64(1), int64(4), object(5)\n",
      "memory usage: 10.7+ KB\n"
     ]
    },
    {
     "name": "stderr",
     "output_type": "stream",
     "text": [
      "/opt/anaconda3/lib/python3.7/site-packages/ipykernel_launcher.py:2: UserWarning: Boolean Series key will be reindexed to match DataFrame index.\n",
      "  \n",
      "/opt/anaconda3/lib/python3.7/site-packages/ipykernel_launcher.py:4: UserWarning: Boolean Series key will be reindexed to match DataFrame index.\n",
      "  after removing the cwd from sys.path.\n"
     ]
    }
   ],
   "source": [
    "#Hypothesis 2: Lets look at the suicide rate per 100k pop for the age range 15-24\n",
    "teens_1985 =suicide_frame_clean[suicide_frame_clean['age']=='15-24 years'][suicide_frame_clean['year']==1985]\n",
    "teens_1985.info()\n",
    "teens_2015 = suicide_frame_clean[suicide_frame_clean['age']=='15-24 years'][suicide_frame_clean['year']==2015]\n",
    "teens_2015.info()"
   ]
  },
  {
   "cell_type": "code",
   "execution_count": 11,
   "metadata": {},
   "outputs": [
    {
     "name": "stdout",
     "output_type": "stream",
     "text": [
      "DescribeResult(nobs=96, minmax=(0.0, 85.59), mean=8.4296875, variance=154.20722411184212, skewness=3.529784445515382, kurtosis=16.298535655181514)\n",
      "DescribeResult(nobs=124, minmax=(0.0, 34.94), mean=7.773225806451613, variance=49.271373249409905, skewness=1.5036339728338914, kurtosis=2.2048208951969226)\n",
      "(0.6317814588546753, 3.649720296491389e-14)\n",
      "(0.8552400469779968, 1.1578575875859087e-09)\n"
     ]
    },
    {
     "data": {
      "image/png": "[encoded data removed]",
      "text/plain": [
       "<Figure size 720x432 with 1 Axes>"
      ]
     },
     "metadata": {
      "needs_background": "light"
     },
     "output_type": "display_data"
    }
   ],
   "source": [
    "plt.figure(figsize = (10,6))\n",
    "sns.distplot(teens_1985['suicides/100k pop'])\n",
    "sns.distplot(teens_2015['suicides/100k pop'])\n",
    "\n",
    "print(stats.describe(teens_1985['suicides/100k pop']))\n",
    "print(stats.describe(teens_2015['suicides/100k pop']))\n",
    "\n",
    "print(stats.shapiro(teens_1985['suicides/100k pop']))\n",
    "print(stats.shapiro(teens_2015['suicides/100k pop']))\n",
    "\n",
    "#visually this is not normally distributed The skewness and \n",
    "#kurtosis are not close to zero. The results of the Shapiro-Wilk's\n",
    "#test indicate that these are not normally distributed."
   ]
  },
  {
   "cell_type": "code",
   "execution_count": 12,
   "metadata": {},
   "outputs": [
    {
     "data": {
      "text/plain": [
       "KruskalResult(statistic=2.1525031618801376, pvalue=0.14233766128847336)"
      ]
     },
     "execution_count": 12,
     "metadata": {},
     "output_type": "execute_result"
    }
   ],
   "source": [
    "#Since the data sets are not normally distributed, lets run a \n",
    "#Kuskal-Wallis test to see if they are significantly different from one another.\n",
    "stats.kruskal(teens_1985['suicides/100k pop'], teens_2015['suicides/100k pop'])"
   ]
  },
  {
   "cell_type": "code",
   "execution_count": 7,
   "metadata": {},
   "outputs": [
    {
     "name": "stdout",
     "output_type": "stream",
     "text": [
      "<class 'pandas.core.frame.DataFrame'>\n",
      "Int64Index: 744 entries, 576 to 27555\n",
      "Data columns (total 10 columns):\n",
      " #   Column              Non-Null Count  Dtype  \n",
      "---  ------              --------------  -----  \n",
      " 0   country             744 non-null    object \n",
      " 1   year                744 non-null    int64  \n",
      " 2   sex                 744 non-null    object \n",
      " 3   age                 744 non-null    object \n",
      " 4   suicides_no         744 non-null    int64  \n",
      " 5   population          744 non-null    int64  \n",
      " 6   suicides/100k pop   744 non-null    float64\n",
      " 7   country-year        744 non-null    object \n",
      " 8    gdp_for_year ($)   744 non-null    object \n",
      " 9   gdp_per_capita ($)  744 non-null    int64  \n",
      "dtypes: float64(1), int64(4), object(5)\n",
      "memory usage: 63.9+ KB\n"
     ]
    },
    {
     "data": {
      "text/html": [
       "<div>\n",
       "<style scoped>\n",
       "    .dataframe tbody tr th:only-of-type {\n",
       "        vertical-align: middle;\n",
       "    }\n",
       "\n",
       "    .dataframe tbody tr th {\n",
       "        vertical-align: top;\n",
       "    }\n",
       "\n",
       "    .dataframe thead th {\n",
       "        text-align: right;\n",
       "    }\n",
       "</style>\n",
       "<table border=\"1\" class=\"dataframe\">\n",
       "  <thead>\n",
       "    <tr style=\"text-align: right;\">\n",
       "      <th></th>\n",
       "      <th>country</th>\n",
       "      <th>suicides_no</th>\n",
       "      <th>population</th>\n",
       "      <th>gdp_for_year ($)</th>\n",
       "      <th>gdp_per_capita ($)</th>\n",
       "    </tr>\n",
       "  </thead>\n",
       "  <tbody>\n",
       "    <tr>\n",
       "      <th>576</th>\n",
       "      <td>Antigua and Barbuda</td>\n",
       "      <td>1</td>\n",
       "      <td>6403</td>\n",
       "      <td>1,364,863,037</td>\n",
       "      <td>14853</td>\n",
       "    </tr>\n",
       "    <tr>\n",
       "      <th>577</th>\n",
       "      <td>Antigua and Barbuda</td>\n",
       "      <td>0</td>\n",
       "      <td>8561</td>\n",
       "      <td>1,364,863,037</td>\n",
       "      <td>14853</td>\n",
       "    </tr>\n",
       "    <tr>\n",
       "      <th>578</th>\n",
       "      <td>Antigua and Barbuda</td>\n",
       "      <td>0</td>\n",
       "      <td>7740</td>\n",
       "      <td>1,364,863,037</td>\n",
       "      <td>14853</td>\n",
       "    </tr>\n",
       "    <tr>\n",
       "      <th>579</th>\n",
       "      <td>Antigua and Barbuda</td>\n",
       "      <td>0</td>\n",
       "      <td>15323</td>\n",
       "      <td>1,364,863,037</td>\n",
       "      <td>14853</td>\n",
       "    </tr>\n",
       "    <tr>\n",
       "      <th>580</th>\n",
       "      <td>Antigua and Barbuda</td>\n",
       "      <td>0</td>\n",
       "      <td>8239</td>\n",
       "      <td>1,364,863,037</td>\n",
       "      <td>14853</td>\n",
       "    </tr>\n",
       "    <tr>\n",
       "      <th>581</th>\n",
       "      <td>Antigua and Barbuda</td>\n",
       "      <td>0</td>\n",
       "      <td>1724</td>\n",
       "      <td>1,364,863,037</td>\n",
       "      <td>14853</td>\n",
       "    </tr>\n",
       "    <tr>\n",
       "      <th>582</th>\n",
       "      <td>Antigua and Barbuda</td>\n",
       "      <td>0</td>\n",
       "      <td>8331</td>\n",
       "      <td>1,364,863,037</td>\n",
       "      <td>14853</td>\n",
       "    </tr>\n",
       "    <tr>\n",
       "      <th>583</th>\n",
       "      <td>Antigua and Barbuda</td>\n",
       "      <td>0</td>\n",
       "      <td>7059</td>\n",
       "      <td>1,364,863,037</td>\n",
       "      <td>14853</td>\n",
       "    </tr>\n",
       "    <tr>\n",
       "      <th>584</th>\n",
       "      <td>Antigua and Barbuda</td>\n",
       "      <td>0</td>\n",
       "      <td>13370</td>\n",
       "      <td>1,364,863,037</td>\n",
       "      <td>14853</td>\n",
       "    </tr>\n",
       "    <tr>\n",
       "      <th>585</th>\n",
       "      <td>Antigua and Barbuda</td>\n",
       "      <td>0</td>\n",
       "      <td>8268</td>\n",
       "      <td>1,364,863,037</td>\n",
       "      <td>14853</td>\n",
       "    </tr>\n",
       "  </tbody>\n",
       "</table>\n",
       "</div>"
      ],
      "text/plain": [
       "                 country  suicides_no  population  gdp_for_year ($)   \\\n",
       "576  Antigua and Barbuda            1        6403      1,364,863,037   \n",
       "577  Antigua and Barbuda            0        8561      1,364,863,037   \n",
       "578  Antigua and Barbuda            0        7740      1,364,863,037   \n",
       "579  Antigua and Barbuda            0       15323      1,364,863,037   \n",
       "580  Antigua and Barbuda            0        8239      1,364,863,037   \n",
       "581  Antigua and Barbuda            0        1724      1,364,863,037   \n",
       "582  Antigua and Barbuda            0        8331      1,364,863,037   \n",
       "583  Antigua and Barbuda            0        7059      1,364,863,037   \n",
       "584  Antigua and Barbuda            0       13370      1,364,863,037   \n",
       "585  Antigua and Barbuda            0        8268      1,364,863,037   \n",
       "\n",
       "     gdp_per_capita ($)  \n",
       "576               14853  \n",
       "577               14853  \n",
       "578               14853  \n",
       "579               14853  \n",
       "580               14853  \n",
       "581               14853  \n",
       "582               14853  \n",
       "583               14853  \n",
       "584               14853  \n",
       "585               14853  "
      ]
     },
     "execution_count": 7,
     "metadata": {},
     "output_type": "execute_result"
    }
   ],
   "source": [
    "#we need to manipulate the dataframe to get overall suicide rate and GDP and GDP per capita for\n",
    "suicides_2015 = suicide_frame_clean[suicide_frame_clean['year'] == 2015]\n",
    "suicides_2015.info()\n",
    "#drop rows we don't need\n",
    "suicides_2015 = suicides_2015.drop(['year', 'age', 'sex', 'suicides/100k pop', 'country-year'], axis = 1)\n",
    "suicides_2015.head(10)"
   ]
  },
  {
   "cell_type": "code",
   "execution_count": 8,
   "metadata": {},
   "outputs": [
    {
     "name": "stdout",
     "output_type": "stream",
     "text": [
      "country\n",
      "Antigua and Barbuda       1\n",
      "Argentina              3073\n",
      "Armenia                  74\n",
      "Australia              3027\n",
      "Austria                1251\n",
      "Name: suicides_no, dtype: int64\n",
      "country\n",
      "Antigua and Barbuda       91889\n",
      "Argentina              39699624\n",
      "Armenia                 2795335\n",
      "Australia              22240785\n",
      "Austria                 8219386\n",
      "Name: population, dtype: int64\n"
     ]
    }
   ],
   "source": [
    "suicide_no_2015 = suicides_2015.groupby('country')['suicides_no'].sum()\n",
    "print(suicide_no_2015.head()) #get total suicides per country\n",
    "population_2015 = suicides_2015.groupby('country')['population'].sum()\n",
    "print(population_2015.head()) #get total population per country"
   ]
  },
  {
   "cell_type": "code",
   "execution_count": 9,
   "metadata": {},
   "outputs": [
    {
     "name": "stdout",
     "output_type": "stream",
     "text": [
      "country\n",
      "Antigua and Barbuda       1364863037\n",
      "Argentina               594749285413\n",
      "Armenia                  10553337673\n",
      "Australia              1349034029453\n",
      "Austria                 382065930308\n",
      "Name:  gdp_for_year ($) , dtype: int64\n"
     ]
    }
   ],
   "source": [
    "#get the GDP per country\n",
    "gdps = suicides_2015.groupby('country')[' gdp_for_year ($) '].max()\n",
    "gdps_numeric = gdps.apply(lambda x: x.replace(\",\",\"\"))\n",
    "gdps_numeric_new=pd.to_numeric(gdps_numeric)\n",
    "print(gdps_numeric_new.head())"
   ]
  },
  {
   "cell_type": "code",
   "execution_count": 10,
   "metadata": {},
   "outputs": [
    {
     "name": "stdout",
     "output_type": "stream",
     "text": [
      "                     suicides_no  population  suicide_rate            GDP  \\\n",
      "country                                                                     \n",
      "Antigua and Barbuda            1       91889      1.088270     1364863037   \n",
      "Argentina                   3073    39699624      7.740627   594749285413   \n",
      "Armenia                       74     2795335      2.647268    10553337673   \n",
      "Australia                   3027    22240785     13.610131  1349034029453   \n",
      "Austria                     1251     8219386     15.220115   382065930308   \n",
      "Belgium                     1867    10624356     17.572830   455039563133   \n",
      "Belize                        26      319835      8.129192     1778567600   \n",
      "Brazil                     11163   191087085      5.841839  1802214373741   \n",
      "Chile                       1838    16565725     11.095198   243999477738   \n",
      "Colombia                    2332    44490427      5.241577   291519591533   \n",
      "\n",
      "                     GDP_per_capita  \n",
      "country                              \n",
      "Antigua and Barbuda    14853.388730  \n",
      "Argentina              14981.232200  \n",
      "Armenia                 3775.339154  \n",
      "Australia              60655.863966  \n",
      "Austria                46483.512310  \n",
      "Belgium                42829.848993  \n",
      "Belize                  5560.891084  \n",
      "Brazil                  9431.377185  \n",
      "Chile                  14729.175918  \n",
      "Colombia                6552.411635  \n"
     ]
    }
   ],
   "source": [
    "#build modified data frame\n",
    "suicides_2015_modified = pd.merge( suicide_no_2015, population_2015, on='country')\n",
    "suicides_2015_modified = suicides_2015_modified.assign(suicide_rate = (suicides_2015_modified.suicides_no/suicides_2015_modified.population)*100000)\n",
    "suicides_2015_modified = pd.merge(suicides_2015_modified, gdps_numeric_new, on='country')\n",
    "suicides_2015_modified=suicides_2015_modified.rename(columns={' gdp_for_year ($) ':'GDP'})\n",
    "suicides_2015_modified = suicides_2015_modified.assign(GDP_per_capita = (suicides_2015_modified.GDP/suicides_2015_modified.population))\n",
    "print(suicides_2015_modified.head(10))"
   ]
  },
  {
   "cell_type": "code",
   "execution_count": 11,
   "metadata": {},
   "outputs": [
    {
     "name": "stdout",
     "output_type": "stream",
     "text": [
      "The correlation coefficient between suicide rate and GDP is (0.11474669571988942, 0.37450461034847354)\n"
     ]
    },
    {
     "data": {
      "text/plain": [
       "Text(0.5, 1.0, 'GDP versus Suicide Rate')"
      ]
     },
     "execution_count": 11,
     "metadata": {},
     "output_type": "execute_result"
    },
    {
     "data": {
      "image/png": "[encoded data removed]",
      "text/plain": [
       "<Figure size 720x432 with 1 Axes>"
      ]
     },
     "metadata": {
      "needs_background": "light"
     },
     "output_type": "display_data"
    }
   ],
   "source": [
    "#Lets see if there is a correlation between suicide rate and GDP\n",
    "\n",
    "pearsonr_GDP = stats.pearsonr(suicides_2015_modified['suicide_rate'], suicides_2015_modified['GDP'])\n",
    "print(\"The correlation coefficient between suicide rate and GDP is {}\".format(pearsonr_GDP))\n",
    "plt.figure(figsize = (10,6))\n",
    "GDP_plot = sns.scatterplot(x=\"GDP\", y=\"suicide_rate\", data=suicides_2015_modified)\n",
    "plt.title(\"GDP versus Suicide Rate\")"
   ]
  },
  {
   "cell_type": "code",
   "execution_count": 12,
   "metadata": {},
   "outputs": [
    {
     "name": "stdout",
     "output_type": "stream",
     "text": [
      "The correlation coefficient between suicide rate and GDP per capita is (0.12924333518234832, 0.3167497694689751)\n"
     ]
    },
    {
     "data": {
      "text/plain": [
       "Text(0.5, 1.0, 'GDP per Capita versus Suicide Rate')"
      ]
     },
     "execution_count": 12,
     "metadata": {},
     "output_type": "execute_result"
    },
    {
     "data": {
      "image/png": "[encoded data removed]",
      "text/plain": [
       "<Figure size 720x432 with 1 Axes>"
      ]
     },
     "metadata": {
      "needs_background": "light"
     },
     "output_type": "display_data"
    }
   ],
   "source": [
    "#Lets see if there is a correlation between suicide rate and GDP\n",
    "\n",
    "pearsonr_GDP_per_capita = stats.pearsonr(suicides_2015_modified['suicide_rate'], suicides_2015_modified['GDP_per_capita'])\n",
    "print(\"The correlation coefficient between suicide rate and GDP per capita is {}\".format(pearsonr_GDP_per_capita))\n",
    "plt.figure(figsize = (10,6))\n",
    "GDP_plot = sns.scatterplot(x=\"GDP_per_capita\", y=\"suicide_rate\", data=suicides_2015_modified)\n",
    "plt.title(\"GDP per Capita versus Suicide Rate\")"
   ]
  },
  {
   "cell_type": "code",
   "execution_count": 21,
   "metadata": {},
   "outputs": [
    {
     "data": {
      "text/html": [
       "<div>\n",
       "<style scoped>\n",
       "    .dataframe tbody tr th:only-of-type {\n",
       "        vertical-align: middle;\n",
       "    }\n",
       "\n",
       "    .dataframe tbody tr th {\n",
       "        vertical-align: top;\n",
       "    }\n",
       "\n",
       "    .dataframe thead th {\n",
       "        text-align: right;\n",
       "    }\n",
       "</style>\n",
       "<table border=\"1\" class=\"dataframe\">\n",
       "  <thead>\n",
       "    <tr style=\"text-align: right;\">\n",
       "      <th></th>\n",
       "      <th>country</th>\n",
       "      <th>suicides_no</th>\n",
       "      <th>population</th>\n",
       "      <th>gdp_for_year ($)</th>\n",
       "      <th>gdp_per_capita ($)</th>\n",
       "    </tr>\n",
       "  </thead>\n",
       "  <tbody>\n",
       "    <tr>\n",
       "      <th>0</th>\n",
       "      <td>Albania</td>\n",
       "      <td>21</td>\n",
       "      <td>312900</td>\n",
       "      <td>2,156,624,900</td>\n",
       "      <td>796</td>\n",
       "    </tr>\n",
       "    <tr>\n",
       "      <th>1</th>\n",
       "      <td>Albania</td>\n",
       "      <td>16</td>\n",
       "      <td>308000</td>\n",
       "      <td>2,156,624,900</td>\n",
       "      <td>796</td>\n",
       "    </tr>\n",
       "    <tr>\n",
       "      <th>2</th>\n",
       "      <td>Albania</td>\n",
       "      <td>14</td>\n",
       "      <td>289700</td>\n",
       "      <td>2,156,624,900</td>\n",
       "      <td>796</td>\n",
       "    </tr>\n",
       "    <tr>\n",
       "      <th>3</th>\n",
       "      <td>Albania</td>\n",
       "      <td>1</td>\n",
       "      <td>21800</td>\n",
       "      <td>2,156,624,900</td>\n",
       "      <td>796</td>\n",
       "    </tr>\n",
       "    <tr>\n",
       "      <th>4</th>\n",
       "      <td>Albania</td>\n",
       "      <td>9</td>\n",
       "      <td>274300</td>\n",
       "      <td>2,156,624,900</td>\n",
       "      <td>796</td>\n",
       "    </tr>\n",
       "    <tr>\n",
       "      <th>5</th>\n",
       "      <td>Albania</td>\n",
       "      <td>1</td>\n",
       "      <td>35600</td>\n",
       "      <td>2,156,624,900</td>\n",
       "      <td>796</td>\n",
       "    </tr>\n",
       "    <tr>\n",
       "      <th>6</th>\n",
       "      <td>Albania</td>\n",
       "      <td>6</td>\n",
       "      <td>278800</td>\n",
       "      <td>2,156,624,900</td>\n",
       "      <td>796</td>\n",
       "    </tr>\n",
       "    <tr>\n",
       "      <th>7</th>\n",
       "      <td>Albania</td>\n",
       "      <td>4</td>\n",
       "      <td>257200</td>\n",
       "      <td>2,156,624,900</td>\n",
       "      <td>796</td>\n",
       "    </tr>\n",
       "    <tr>\n",
       "      <th>8</th>\n",
       "      <td>Albania</td>\n",
       "      <td>1</td>\n",
       "      <td>137500</td>\n",
       "      <td>2,156,624,900</td>\n",
       "      <td>796</td>\n",
       "    </tr>\n",
       "    <tr>\n",
       "      <th>9</th>\n",
       "      <td>Albania</td>\n",
       "      <td>0</td>\n",
       "      <td>311000</td>\n",
       "      <td>2,156,624,900</td>\n",
       "      <td>796</td>\n",
       "    </tr>\n",
       "  </tbody>\n",
       "</table>\n",
       "</div>"
      ],
      "text/plain": [
       "   country  suicides_no  population  gdp_for_year ($)   gdp_per_capita ($)\n",
       "0  Albania           21      312900      2,156,624,900                 796\n",
       "1  Albania           16      308000      2,156,624,900                 796\n",
       "2  Albania           14      289700      2,156,624,900                 796\n",
       "3  Albania            1       21800      2,156,624,900                 796\n",
       "4  Albania            9      274300      2,156,624,900                 796\n",
       "5  Albania            1       35600      2,156,624,900                 796\n",
       "6  Albania            6      278800      2,156,624,900                 796\n",
       "7  Albania            4      257200      2,156,624,900                 796\n",
       "8  Albania            1      137500      2,156,624,900                 796\n",
       "9  Albania            0      311000      2,156,624,900                 796"
      ]
     },
     "execution_count": 21,
     "metadata": {},
     "output_type": "execute_result"
    }
   ],
   "source": [
    "#we need to manipulate the dataframe to get overall suicide rate and GDP and GDP per capita for\n",
    "#drop rows we don't need\n",
    "suicides_overall = suicide_frame_clean.drop(['year', 'age', 'sex', 'suicides/100k pop', 'country-year'], axis = 1)\n",
    "suicides_overall.head(10)"
   ]
  },
  {
   "cell_type": "code",
   "execution_count": 22,
   "metadata": {},
   "outputs": [
    {
     "name": "stdout",
     "output_type": "stream",
     "text": [
      "country\n",
      "Albania                 1970\n",
      "Antigua and Barbuda       11\n",
      "Argentina              82219\n",
      "Armenia                 1838\n",
      "Aruba                    101\n",
      "Name: suicides_no, dtype: int64\n",
      "country\n",
      "Albania                  62325467\n",
      "Antigua and Barbuda       1990228\n",
      "Argentina              1035985431\n",
      "Armenia                  74948140\n",
      "Aruba                     1259677\n",
      "Name: population, dtype: int64\n"
     ]
    }
   ],
   "source": [
    "suicide_no_overall = suicides_overall.groupby('country')['suicides_no'].sum()\n",
    "print(suicide_no_overall.head()) #get total suicides per country\n",
    "population_overall = suicides_overall.groupby('country')['population'].sum()\n",
    "print(population_overall.head()) #get total population per country"
   ]
  },
  {
   "cell_type": "code",
   "execution_count": 23,
   "metadata": {},
   "outputs": [
    {
     "name": "stdout",
     "output_type": "stream",
     "text": [
      "country\n",
      "Albania                 8992642349\n",
      "Antigua and Barbuda      919577148\n",
      "Argentina              97724004252\n",
      "Armenia                 9260284938\n",
      "Aruba                   2791960894\n",
      "Name:  gdp_for_year ($) , dtype: int64\n"
     ]
    }
   ],
   "source": [
    "#get the GDP per country\n",
    "gdps2 = suicides_overall.groupby('country')[' gdp_for_year ($) '].max()\n",
    "gdps_numeric2 = gdps2.apply(lambda x: x.replace(\",\",\"\"))\n",
    "gdps_numeric_new2=pd.to_numeric(gdps_numeric2)\n",
    "print(gdps_numeric_new2.head())"
   ]
  },
  {
   "cell_type": "code",
   "execution_count": 24,
   "metadata": {},
   "outputs": [
    {
     "name": "stdout",
     "output_type": "stream",
     "text": [
      "                     suicides_no  population  suicide_rate           GDP  \\\n",
      "country                                                                    \n",
      "Albania                     1970    62325467      3.160827    8992642349   \n",
      "Antigua and Barbuda           11     1990228      0.552700     919577148   \n",
      "Argentina                  82219  1035985431      7.936309   97724004252   \n",
      "Armenia                     1838    74948140      2.452362    9260284938   \n",
      "Aruba                        101     1259677      8.017928    2791960894   \n",
      "Australia                  70111   542377786     12.926599  926448240318   \n",
      "Austria                    48872   236368465     20.676193   99036165210   \n",
      "Azerbaijan                  1656   111790300      1.481345    8858006036   \n",
      "Bahamas                       93     6557048      1.418321    9981960000   \n",
      "Bahrain                      463    16753926      2.763531    9632155053   \n",
      "\n",
      "                     GDP_per_capita  \n",
      "country                              \n",
      "Albania                  144.285198  \n",
      "Antigua and Barbuda      462.046131  \n",
      "Argentina                 94.329516  \n",
      "Armenia                  123.555901  \n",
      "Aruba                   2216.410154  \n",
      "Australia               1708.123497  \n",
      "Austria                  418.990601  \n",
      "Azerbaijan                79.237698  \n",
      "Bahamas                 1522.325290  \n",
      "Bahrain                  574.919279  \n"
     ]
    }
   ],
   "source": [
    "#build modified data frame\n",
    "suicides_overall_modified = pd.merge( suicide_no_overall, population_overall, on='country')\n",
    "suicides_overall_modified = suicides_overall_modified.assign(suicide_rate = (suicides_overall_modified.suicides_no/suicides_overall_modified.population)*100000)\n",
    "suicides_overall_modified = pd.merge(suicides_overall_modified, gdps_numeric_new2, on='country')\n",
    "suicides_overall_modified = suicides_overall_modified.rename(columns={' gdp_for_year ($) ':'GDP'})\n",
    "suicides_overall_modified = suicides_overall_modified.assign(GDP_per_capita = (suicides_overall_modified.GDP/suicides_overall_modified.population))\n",
    "print(suicides_overall_modified.head(10))"
   ]
  },
  {
   "cell_type": "code",
   "execution_count": 25,
   "metadata": {},
   "outputs": [
    {
     "name": "stdout",
     "output_type": "stream",
     "text": [
      "The correlation coefficient between suicide rate and GDP is (0.11235317991753939, 0.26573665029374605)\n"
     ]
    },
    {
     "data": {
      "text/plain": [
       "Text(0.5, 1.0, 'GDP versus Suicide Rate')"
      ]
     },
     "execution_count": 25,
     "metadata": {},
     "output_type": "execute_result"
    },
    {
     "data": {
      "image/png": "[encoded data removed]",
      "text/plain": [
       "<Figure size 720x432 with 1 Axes>"
      ]
     },
     "metadata": {
      "needs_background": "light"
     },
     "output_type": "display_data"
    }
   ],
   "source": [
    "#Lets see if there is a correlation between suicide rate and GDP\n",
    "\n",
    "pearsonr_GDP_overall = stats.pearsonr(suicides_overall_modified['suicide_rate'], suicides_overall_modified['GDP'])\n",
    "print(\"The correlation coefficient between suicide rate and GDP is {}\".format(pearsonr_GDP_overall))\n",
    "plt.figure(figsize = (10,6))\n",
    "GDP_plot_overall = sns.scatterplot(x=\"GDP\", y=\"suicide_rate\", data=suicides_overall_modified)\n",
    "plt.title(\"GDP versus Suicide Rate\")"
   ]
  },
  {
   "cell_type": "code",
   "execution_count": 26,
   "metadata": {},
   "outputs": [
    {
     "name": "stdout",
     "output_type": "stream",
     "text": [
      "The correlation coefficient between suicide rate and GDP per capita is (-0.1511759921222902, 0.13325298867793572)\n"
     ]
    },
    {
     "data": {
      "text/plain": [
       "Text(0.5, 1.0, 'GDP per Capita versus Suicide Rate')"
      ]
     },
     "execution_count": 26,
     "metadata": {},
     "output_type": "execute_result"
    },
    {
     "data": {
      "image/png": "[encoded data removed]",
      "text/plain": [
       "<Figure size 720x432 with 1 Axes>"
      ]
     },
     "metadata": {
      "needs_background": "light"
     },
     "output_type": "display_data"
    }
   ],
   "source": [
    "#Lets see if there is a correlation between suicide rate and GDP\n",
    "\n",
    "pearsonr_GDP_per_capita_overall = stats.pearsonr(suicides_overall_modified['suicide_rate'], suicides_overall_modified['GDP_per_capita'])\n",
    "print(\"The correlation coefficient between suicide rate and GDP per capita is {}\".format(pearsonr_GDP_per_capita_overall))\n",
    "plt.figure(figsize = (10,6))\n",
    "GDP_plot_overall2 = sns.scatterplot(x=\"GDP_per_capita\", y=\"suicide_rate\", data=suicides_overall_modified)\n",
    "plt.title(\"GDP per Capita versus Suicide Rate\")"
   ]
  },
  {
   "cell_type": "code",
   "execution_count": null,
   "metadata": {},
   "outputs": [],
   "source": []
  }
 ],
 "metadata": {
  "kernelspec": {
   "display_name": "Python 3",
   "language": "python",
   "name": "python3"
  },
  "language_info": {
   "codemirror_mode": {
    "name": "ipython",
    "version": 3
   },
   "file_extension": ".py",
   "mimetype": "text/x-python",
   "name": "python",
   "nbconvert_exporter": "python",
   "pygments_lexer": "ipython3",
   "version": "3.7.6"
  }
 },
 "nbformat": 4,
 "nbformat_minor": 4
}
